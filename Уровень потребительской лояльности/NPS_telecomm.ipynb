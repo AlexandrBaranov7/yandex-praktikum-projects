{
 "cells": [
  {
   "cell_type": "markdown",
   "id": "4b30fe6e",
   "metadata": {},
   "source": [
    "# Исследование потребительской лояльности "
   ]
  },
  {
   "cell_type": "markdown",
   "id": "4bf301fd",
   "metadata": {},
   "source": [
    "Заказчик этого исследования — большая телекоммуникационная компания, которая оказывает услуги на территории всего СНГ. Перед компанией стоит задача определить текущий уровень потребительской лояльности, или NPS (от англ. Net Promoter Score), среди клиентов из России. "
   ]
  },
  {
   "cell_type": "code",
   "execution_count": 1,
   "id": "fc7efa54",
   "metadata": {},
   "outputs": [],
   "source": [
    "# импорт необходимых библиотек\n",
    "import os\n",
    "import pandas as pd\n",
    "import numpy as np\n",
    "from sqlalchemy import create_engine"
   ]
  },
  {
   "cell_type": "markdown",
   "id": "2b5abb01",
   "metadata": {},
   "source": [
    "## Получение данных"
   ]
  },
  {
   "cell_type": "code",
   "execution_count": 2,
   "id": "0017f8e7",
   "metadata": {},
   "outputs": [],
   "source": [
    "# Подключение к БД\n",
    "path_to_db_local = 'telecomm_csi.db'\n",
    "path_to_db_platform = '/datasets/telecomm_csi.db'\n",
    "path_to_db = None\n",
    "\n",
    "if os.path.exists(path_to_db_local):\n",
    "    path_to_db = path_to_db_local\n",
    "elif os.path.exists(path_to_db_platform):\n",
    "    path_to_db = path_to_db_platform\n",
    "else:\n",
    "    raise Exception('Файл с базой данных SQLite не найден!')\n",
    "\n",
    "if path_to_db:\n",
    "    engine = create_engine(f'sqlite:///{path_to_db}', echo=False)"
   ]
  },
  {
   "cell_type": "markdown",
   "id": "a28d41b2",
   "metadata": {},
   "source": [
    "База данных выглядит следующим образом:\n",
    "![title](https://sun9-13.userapi.com/impg/PZ0Y4b4I366fOmpMzGAQHBqcWl3BLXOoUpfhgw/btiBMCi5-ZU.jpg?size=2560x1175&quality=96&sign=b4be3b3255d68a1ab04b2ae4fb0babbd&type=album)"
   ]
  },
  {
   "cell_type": "markdown",
   "id": "09e0ec94",
   "metadata": {},
   "source": [
    "Итоговый датасет должен содержать:"
   ]
  },
  {
   "cell_type": "markdown",
   "id": "88f06dfc",
   "metadata": {},
   "source": [
    "- user_id\tИдентификатор клиента\n",
    "\n",
    "\n",
    "- lt_day\tКоличество дней «жизни» клиента\n",
    "\n",
    "\n",
    "- is_new\tПоле хранит информацию о том, является ли клиент новым\n",
    "\n",
    "\n",
    "- age\tВозраст\n",
    "\n",
    "\n",
    "- gender_segment\tПол (для удобства работы с полем преобразуйте значения в текстовый вид)\n",
    "\n",
    "\n",
    "- os_name\tТип операционной системы\n",
    "\n",
    "\n",
    "- cpe_type_name\tТип устройства\n",
    "\n",
    "\n",
    "- country\tСтрана проживания\n",
    "\n",
    "\n",
    "- city\tГород проживания\n",
    "\n",
    "\n",
    "- age_segment\tВозрастной сегмент\n",
    "\n",
    "\n",
    "- traffic_segment\tСегмент по объёму потребляемого трафика\n",
    "\n",
    "\n",
    "- lifetime_segment\tСегмент по количеству дней «жизни»\n",
    "\n",
    "\n",
    "- nps_score\tОценка клиента в NPS-опросе\n",
    "\n",
    "\n",
    "- nps_group\tПоле хранит информацию о том, к какой группе относится оценка клиента в опросе"
   ]
  },
  {
   "cell_type": "code",
   "execution_count": 3,
   "id": "84ebad43",
   "metadata": {},
   "outputs": [],
   "source": [
    "query = \"\"\"\n",
    "SELECT user.user_id,\n",
    "        user.lt_day,\n",
    "        CASE WHEN user.lt_day < 365 THEN 1 ELSE 0 END as 'is_new',\n",
    "        user.age,\n",
    "        CASE WHEN user.gender_segment = 1 THEN 'female'\n",
    "            WHEN user.gender_segment = 0 THEN 'male'\n",
    "        END as gender_segment,\n",
    "        user.os_name,\n",
    "        user.cpe_type_name,\n",
    "        location.country,\n",
    "        location.city,\n",
    "        SUBSTRING(age_segment.title, 4) as age_segment,\n",
    "        SUBSTRING(traffic_segment.title, 4) as traffic_segment,\n",
    "        SUBSTRING(lifetime_segment.title, 4) as lifetime_segment,\n",
    "        user.nps_score,\n",
    "        CASE WHEN user.nps_score <= 6 THEN 'detractors' \n",
    "            when user.nps_score <= 8 THEN 'passives'\n",
    "            when user.nps_score <= 10 THEN 'promoters'\n",
    "        END as nps_group\n",
    "FROM \"user\" user\n",
    "LEFT JOIN location\n",
    "ON user.location_id = location.location_id \n",
    "LEFT JOIN age_segment\n",
    "ON user.age_gr_id  = age_segment.age_gr_id  \n",
    "LEFT JOIN traffic_segment \n",
    "ON user.tr_gr_id = traffic_segment.tr_gr_id   \n",
    "LEFT JOIN lifetime_segment \n",
    "ON user.lt_gr_id = lifetime_segment.lt_gr_id   \n",
    "\"\"\""
   ]
  },
  {
   "cell_type": "code",
   "execution_count": 4,
   "id": "3965faf2",
   "metadata": {},
   "outputs": [],
   "source": [
    "df = pd.read_sql(query, engine)"
   ]
  },
  {
   "cell_type": "code",
   "execution_count": 5,
   "id": "a01738b5",
   "metadata": {},
   "outputs": [
    {
     "data": {
      "text/html": [
       "<div>\n",
       "<style scoped>\n",
       "    .dataframe tbody tr th:only-of-type {\n",
       "        vertical-align: middle;\n",
       "    }\n",
       "\n",
       "    .dataframe tbody tr th {\n",
       "        vertical-align: top;\n",
       "    }\n",
       "\n",
       "    .dataframe thead th {\n",
       "        text-align: right;\n",
       "    }\n",
       "</style>\n",
       "<table border=\"1\" class=\"dataframe\">\n",
       "  <thead>\n",
       "    <tr style=\"text-align: right;\">\n",
       "      <th></th>\n",
       "      <th>user_id</th>\n",
       "      <th>lt_day</th>\n",
       "      <th>is_new</th>\n",
       "      <th>age</th>\n",
       "      <th>gender_segment</th>\n",
       "      <th>os_name</th>\n",
       "      <th>cpe_type_name</th>\n",
       "      <th>country</th>\n",
       "      <th>city</th>\n",
       "      <th>age_segment</th>\n",
       "      <th>traffic_segment</th>\n",
       "      <th>lifetime_segment</th>\n",
       "      <th>nps_score</th>\n",
       "      <th>nps_group</th>\n",
       "    </tr>\n",
       "  </thead>\n",
       "  <tbody>\n",
       "    <tr>\n",
       "      <th>0</th>\n",
       "      <td>A001A2</td>\n",
       "      <td>2320</td>\n",
       "      <td>0</td>\n",
       "      <td>45.0</td>\n",
       "      <td>female</td>\n",
       "      <td>ANDROID</td>\n",
       "      <td>SMARTPHONE</td>\n",
       "      <td>Россия</td>\n",
       "      <td>Уфа</td>\n",
       "      <td>45-54</td>\n",
       "      <td>1-5</td>\n",
       "      <td>36+</td>\n",
       "      <td>10</td>\n",
       "      <td>promoters</td>\n",
       "    </tr>\n",
       "    <tr>\n",
       "      <th>1</th>\n",
       "      <td>A001WF</td>\n",
       "      <td>2344</td>\n",
       "      <td>0</td>\n",
       "      <td>53.0</td>\n",
       "      <td>male</td>\n",
       "      <td>ANDROID</td>\n",
       "      <td>SMARTPHONE</td>\n",
       "      <td>Россия</td>\n",
       "      <td>Киров</td>\n",
       "      <td>45-54</td>\n",
       "      <td>1-5</td>\n",
       "      <td>36+</td>\n",
       "      <td>10</td>\n",
       "      <td>promoters</td>\n",
       "    </tr>\n",
       "    <tr>\n",
       "      <th>2</th>\n",
       "      <td>A003Q7</td>\n",
       "      <td>467</td>\n",
       "      <td>0</td>\n",
       "      <td>57.0</td>\n",
       "      <td>male</td>\n",
       "      <td>ANDROID</td>\n",
       "      <td>SMARTPHONE</td>\n",
       "      <td>Россия</td>\n",
       "      <td>Москва</td>\n",
       "      <td>55-64</td>\n",
       "      <td>20-25</td>\n",
       "      <td>13-24</td>\n",
       "      <td>10</td>\n",
       "      <td>promoters</td>\n",
       "    </tr>\n",
       "    <tr>\n",
       "      <th>3</th>\n",
       "      <td>A004TB</td>\n",
       "      <td>4190</td>\n",
       "      <td>0</td>\n",
       "      <td>44.0</td>\n",
       "      <td>female</td>\n",
       "      <td>IOS</td>\n",
       "      <td>SMARTPHONE</td>\n",
       "      <td>Россия</td>\n",
       "      <td>РостовнаДону</td>\n",
       "      <td>35-44</td>\n",
       "      <td>0.1-1</td>\n",
       "      <td>36+</td>\n",
       "      <td>10</td>\n",
       "      <td>promoters</td>\n",
       "    </tr>\n",
       "    <tr>\n",
       "      <th>4</th>\n",
       "      <td>A004XT</td>\n",
       "      <td>1163</td>\n",
       "      <td>0</td>\n",
       "      <td>24.0</td>\n",
       "      <td>male</td>\n",
       "      <td>ANDROID</td>\n",
       "      <td>SMARTPHONE</td>\n",
       "      <td>Россия</td>\n",
       "      <td>Рязань</td>\n",
       "      <td>16-24</td>\n",
       "      <td>5-10</td>\n",
       "      <td>36+</td>\n",
       "      <td>10</td>\n",
       "      <td>promoters</td>\n",
       "    </tr>\n",
       "  </tbody>\n",
       "</table>\n",
       "</div>"
      ],
      "text/plain": [
       "  user_id  lt_day  is_new   age gender_segment  os_name cpe_type_name country  \\\n",
       "0  A001A2    2320       0  45.0         female  ANDROID    SMARTPHONE  Россия   \n",
       "1  A001WF    2344       0  53.0           male  ANDROID    SMARTPHONE  Россия   \n",
       "2  A003Q7     467       0  57.0           male  ANDROID    SMARTPHONE  Россия   \n",
       "3  A004TB    4190       0  44.0         female      IOS    SMARTPHONE  Россия   \n",
       "4  A004XT    1163       0  24.0           male  ANDROID    SMARTPHONE  Россия   \n",
       "\n",
       "           city age_segment traffic_segment lifetime_segment  nps_score  \\\n",
       "0           Уфа       45-54             1-5              36+         10   \n",
       "1         Киров       45-54             1-5              36+         10   \n",
       "2        Москва       55-64           20-25            13-24         10   \n",
       "3  РостовнаДону       35-44           0.1-1              36+         10   \n",
       "4        Рязань       16-24            5-10              36+         10   \n",
       "\n",
       "   nps_group  \n",
       "0  promoters  \n",
       "1  promoters  \n",
       "2  promoters  \n",
       "3  promoters  \n",
       "4  promoters  "
      ]
     },
     "execution_count": 5,
     "metadata": {},
     "output_type": "execute_result"
    }
   ],
   "source": [
    "df.head()"
   ]
  },
  {
   "cell_type": "code",
   "execution_count": 6,
   "id": "26437db4",
   "metadata": {},
   "outputs": [
    {
     "data": {
      "text/plain": [
       "(502493, 14)"
      ]
     },
     "execution_count": 6,
     "metadata": {},
     "output_type": "execute_result"
    }
   ],
   "source": [
    "df.shape"
   ]
  },
  {
   "cell_type": "code",
   "execution_count": 7,
   "id": "9db04858",
   "metadata": {},
   "outputs": [],
   "source": [
    "df.to_csv('telecomm_csi_tableau.csv', index=False)"
   ]
  },
  {
   "cell_type": "markdown",
   "id": "60ad312a",
   "metadata": {},
   "source": [
    "## Дашборды и story"
   ]
  },
  {
   "cell_type": "markdown",
   "id": "8534f1f5",
   "metadata": {},
   "source": [
    "https://public.tableau.com/app/profile/alexandr.baranov/viz/NPS_16846118840790/Story1"
   ]
  }
 ],
 "metadata": {
  "ExecuteTimeLog": [
   {
    "duration": 491,
    "start_time": "2023-05-13T18:27:27.932Z"
   },
   {
    "duration": 90,
    "start_time": "2023-05-13T18:27:29.555Z"
   },
   {
    "duration": 3,
    "start_time": "2023-05-13T18:27:31.326Z"
   },
   {
    "duration": 3,
    "start_time": "2023-05-13T18:27:42.958Z"
   },
   {
    "duration": 438,
    "start_time": "2023-05-13T18:27:45.231Z"
   },
   {
    "duration": 3,
    "start_time": "2023-05-13T18:28:38.694Z"
   },
   {
    "duration": 3672,
    "start_time": "2023-05-13T18:28:40.201Z"
   },
   {
    "duration": 3385,
    "start_time": "2023-05-13T18:28:52.153Z"
   },
   {
    "duration": 614,
    "start_time": "2023-05-16T03:06:55.147Z"
   },
   {
    "duration": 109,
    "start_time": "2023-05-16T03:18:46.588Z"
   },
   {
    "duration": 3,
    "start_time": "2023-05-16T03:33:11.014Z"
   },
   {
    "duration": 72,
    "start_time": "2023-05-16T03:33:13.522Z"
   },
   {
    "duration": 125,
    "start_time": "2023-05-16T03:33:16.790Z"
   },
   {
    "duration": 2,
    "start_time": "2023-05-16T03:33:19.092Z"
   },
   {
    "duration": 616,
    "start_time": "2023-05-16T03:33:20.520Z"
   },
   {
    "duration": 2,
    "start_time": "2023-05-16T03:36:16.870Z"
   },
   {
    "duration": 606,
    "start_time": "2023-05-16T03:36:19.189Z"
   },
   {
    "duration": 3,
    "start_time": "2023-05-16T03:41:47.783Z"
   },
   {
    "duration": 615,
    "start_time": "2023-05-16T03:41:49.824Z"
   },
   {
    "duration": 3,
    "start_time": "2023-05-16T03:46:26.299Z"
   },
   {
    "duration": 6407,
    "start_time": "2023-05-16T03:46:27.937Z"
   },
   {
    "duration": 4,
    "start_time": "2023-05-16T03:47:04.930Z"
   },
   {
    "duration": 6340,
    "start_time": "2023-05-16T03:47:07.048Z"
   },
   {
    "duration": 6168,
    "start_time": "2023-05-16T03:47:29.455Z"
   },
   {
    "duration": 14,
    "start_time": "2023-05-16T03:47:49.407Z"
   },
   {
    "duration": 4723,
    "start_time": "2023-05-16T03:50:44.179Z"
   },
   {
    "duration": 136,
    "start_time": "2023-05-20T19:53:00.616Z"
   },
   {
    "duration": 620,
    "start_time": "2023-05-20T19:56:08.212Z"
   },
   {
    "duration": 127,
    "start_time": "2023-05-20T19:56:08.838Z"
   },
   {
    "duration": 4,
    "start_time": "2023-05-20T19:56:08.967Z"
   },
   {
    "duration": 7144,
    "start_time": "2023-05-20T19:56:08.973Z"
   },
   {
    "duration": 44,
    "start_time": "2023-05-20T19:56:16.120Z"
   },
   {
    "duration": 5118,
    "start_time": "2023-05-20T19:56:16.166Z"
   },
   {
    "duration": 571,
    "start_time": "2023-05-22T05:08:28.583Z"
   },
   {
    "duration": 25,
    "start_time": "2023-05-22T05:08:29.156Z"
   },
   {
    "duration": 4,
    "start_time": "2023-05-22T05:08:29.183Z"
   },
   {
    "duration": 6068,
    "start_time": "2023-05-22T05:08:29.189Z"
   },
   {
    "duration": 20,
    "start_time": "2023-05-22T05:08:35.259Z"
   },
   {
    "duration": 4857,
    "start_time": "2023-05-22T05:08:35.281Z"
   },
   {
    "duration": 64,
    "start_time": "2023-05-22T06:22:23.761Z"
   },
   {
    "duration": 529,
    "start_time": "2023-05-22T06:22:33.013Z"
   },
   {
    "duration": 125,
    "start_time": "2023-05-22T06:22:33.545Z"
   },
   {
    "duration": 3,
    "start_time": "2023-05-22T06:22:33.672Z"
   },
   {
    "duration": 6273,
    "start_time": "2023-05-22T06:22:33.677Z"
   },
   {
    "duration": 20,
    "start_time": "2023-05-22T06:22:39.952Z"
   },
   {
    "duration": 5,
    "start_time": "2023-05-22T06:22:39.973Z"
   },
   {
    "duration": 4501,
    "start_time": "2023-05-22T06:22:39.980Z"
   }
  ],
  "kernelspec": {
   "display_name": "Python 3 (ipykernel)",
   "language": "python",
   "name": "python3"
  },
  "language_info": {
   "codemirror_mode": {
    "name": "ipython",
    "version": 3
   },
   "file_extension": ".py",
   "mimetype": "text/x-python",
   "name": "python",
   "nbconvert_exporter": "python",
   "pygments_lexer": "ipython3",
   "version": "3.9.13"
  },
  "toc": {
   "base_numbering": 1,
   "nav_menu": {
    "height": "48.9962px",
    "width": "176.995px"
   },
   "number_sections": true,
   "sideBar": true,
   "skip_h1_title": true,
   "title_cell": "Table of Contents",
   "title_sidebar": "Contents",
   "toc_cell": false,
   "toc_position": {},
   "toc_section_display": true,
   "toc_window_display": false
  }
 },
 "nbformat": 4,
 "nbformat_minor": 5
}
